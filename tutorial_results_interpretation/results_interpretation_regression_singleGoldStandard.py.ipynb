{
 "cells": [
  {
   "cell_type": "code",
   "execution_count": 1,
   "metadata": {},
   "outputs": [],
   "source": [
    "import pandas as pd "
   ]
  },
  {
   "cell_type": "code",
   "execution_count": 2,
   "metadata": {},
   "outputs": [],
   "source": [
    "import statistics"
   ]
  },
  {
   "cell_type": "code",
   "execution_count": 3,
   "metadata": {},
   "outputs": [],
   "source": [
    "import matplotlib.pyplot as plt"
   ]
  },
  {
   "cell_type": "code",
   "execution_count": 4,
   "metadata": {},
   "outputs": [],
   "source": [
    "import numpy as np"
   ]
  },
  {
   "cell_type": "code",
   "execution_count": 5,
   "metadata": {},
   "outputs": [],
   "source": [
    "# it contains regression results by using metacritic albums\n",
    "filename = \"results/result_2019-12-10_18-32-10/regression_MetacriticAlbums_results.csv\""
   ]
  },
  {
   "cell_type": "code",
   "execution_count": 6,
   "metadata": {},
   "outputs": [],
   "source": [
    "data = pd.read_csv(filename, keep_default_na=False)"
   ]
  },
  {
   "cell_type": "code",
   "execution_count": 7,
   "metadata": {},
   "outputs": [
    {
     "data": {
      "text/html": [
       "<div>\n",
       "<style scoped>\n",
       "    .dataframe tbody tr th:only-of-type {\n",
       "        vertical-align: middle;\n",
       "    }\n",
       "\n",
       "    .dataframe tbody tr th {\n",
       "        vertical-align: top;\n",
       "    }\n",
       "\n",
       "    .dataframe thead th {\n",
       "        text-align: right;\n",
       "    }\n",
       "</style>\n",
       "<table border=\"1\" class=\"dataframe\">\n",
       "  <thead>\n",
       "    <tr style=\"text-align: right;\">\n",
       "      <th></th>\n",
       "      <th>task_name</th>\n",
       "      <th>gold_standard_file</th>\n",
       "      <th>model_name</th>\n",
       "      <th>model_configuration</th>\n",
       "      <th>root_mean_squared_error</th>\n",
       "    </tr>\n",
       "  </thead>\n",
       "  <tbody>\n",
       "    <tr>\n",
       "      <th>0</th>\n",
       "      <td>Regression</td>\n",
       "      <td>MetacriticAlbums</td>\n",
       "      <td>KNN</td>\n",
       "      <td>K=3</td>\n",
       "      <td>12.078667</td>\n",
       "    </tr>\n",
       "    <tr>\n",
       "      <th>1</th>\n",
       "      <td>Regression</td>\n",
       "      <td>MetacriticAlbums</td>\n",
       "      <td>KNN</td>\n",
       "      <td>K=3</td>\n",
       "      <td>12.103673</td>\n",
       "    </tr>\n",
       "    <tr>\n",
       "      <th>2</th>\n",
       "      <td>Regression</td>\n",
       "      <td>MetacriticAlbums</td>\n",
       "      <td>KNN</td>\n",
       "      <td>K=3</td>\n",
       "      <td>12.146482</td>\n",
       "    </tr>\n",
       "    <tr>\n",
       "      <th>3</th>\n",
       "      <td>Regression</td>\n",
       "      <td>MetacriticAlbums</td>\n",
       "      <td>KNN</td>\n",
       "      <td>K=3</td>\n",
       "      <td>12.049240</td>\n",
       "    </tr>\n",
       "    <tr>\n",
       "      <th>4</th>\n",
       "      <td>Regression</td>\n",
       "      <td>MetacriticAlbums</td>\n",
       "      <td>KNN</td>\n",
       "      <td>K=3</td>\n",
       "      <td>12.057659</td>\n",
       "    </tr>\n",
       "  </tbody>\n",
       "</table>\n",
       "</div>"
      ],
      "text/plain": [
       "    task_name gold_standard_file model_name model_configuration  \\\n",
       "0  Regression   MetacriticAlbums        KNN                 K=3   \n",
       "1  Regression   MetacriticAlbums        KNN                 K=3   \n",
       "2  Regression   MetacriticAlbums        KNN                 K=3   \n",
       "3  Regression   MetacriticAlbums        KNN                 K=3   \n",
       "4  Regression   MetacriticAlbums        KNN                 K=3   \n",
       "\n",
       "   root_mean_squared_error  \n",
       "0                12.078667  \n",
       "1                12.103673  \n",
       "2                12.146482  \n",
       "3                12.049240  \n",
       "4                12.057659  "
      ]
     },
     "execution_count": 7,
     "metadata": {},
     "output_type": "execute_result"
    }
   ],
   "source": [
    "data.head()"
   ]
  },
  {
   "cell_type": "code",
   "execution_count": 8,
   "metadata": {},
   "outputs": [],
   "source": [
    "# the best method able to manage metacritic albums\n",
    "best_result = data[data.root_mean_squared_error==min(data.root_mean_squared_error)]"
   ]
  },
  {
   "cell_type": "code",
   "execution_count": 9,
   "metadata": {},
   "outputs": [
    {
     "data": {
      "text/html": [
       "<div>\n",
       "<style scoped>\n",
       "    .dataframe tbody tr th:only-of-type {\n",
       "        vertical-align: middle;\n",
       "    }\n",
       "\n",
       "    .dataframe tbody tr th {\n",
       "        vertical-align: top;\n",
       "    }\n",
       "\n",
       "    .dataframe thead th {\n",
       "        text-align: right;\n",
       "    }\n",
       "</style>\n",
       "<table border=\"1\" class=\"dataframe\">\n",
       "  <thead>\n",
       "    <tr style=\"text-align: right;\">\n",
       "      <th></th>\n",
       "      <th>task_name</th>\n",
       "      <th>gold_standard_file</th>\n",
       "      <th>model_name</th>\n",
       "      <th>model_configuration</th>\n",
       "      <th>root_mean_squared_error</th>\n",
       "    </tr>\n",
       "  </thead>\n",
       "  <tbody>\n",
       "    <tr>\n",
       "      <th>22</th>\n",
       "      <td>Regression</td>\n",
       "      <td>MetacriticAlbums</td>\n",
       "      <td>LR</td>\n",
       "      <td></td>\n",
       "      <td>11.524901</td>\n",
       "    </tr>\n",
       "  </tbody>\n",
       "</table>\n",
       "</div>"
      ],
      "text/plain": [
       "     task_name gold_standard_file model_name model_configuration  \\\n",
       "22  Regression   MetacriticAlbums         LR                       \n",
       "\n",
       "    root_mean_squared_error  \n",
       "22                11.524901  "
      ]
     },
     "execution_count": 9,
     "metadata": {},
     "output_type": "execute_result"
    }
   ],
   "source": [
    "best_result"
   ]
  },
  {
   "cell_type": "code",
   "execution_count": 10,
   "metadata": {},
   "outputs": [],
   "source": [
    "# the worst method in working with metacritic albums\n",
    "worst_result = data[data.root_mean_squared_error==max(data.root_mean_squared_error)]"
   ]
  },
  {
   "cell_type": "code",
   "execution_count": 11,
   "metadata": {},
   "outputs": [
    {
     "data": {
      "text/html": [
       "<div>\n",
       "<style scoped>\n",
       "    .dataframe tbody tr th:only-of-type {\n",
       "        vertical-align: middle;\n",
       "    }\n",
       "\n",
       "    .dataframe tbody tr th {\n",
       "        vertical-align: top;\n",
       "    }\n",
       "\n",
       "    .dataframe thead th {\n",
       "        text-align: right;\n",
       "    }\n",
       "</style>\n",
       "<table border=\"1\" class=\"dataframe\">\n",
       "  <thead>\n",
       "    <tr style=\"text-align: right;\">\n",
       "      <th></th>\n",
       "      <th>task_name</th>\n",
       "      <th>gold_standard_file</th>\n",
       "      <th>model_name</th>\n",
       "      <th>model_configuration</th>\n",
       "      <th>root_mean_squared_error</th>\n",
       "    </tr>\n",
       "  </thead>\n",
       "  <tbody>\n",
       "    <tr>\n",
       "      <th>18</th>\n",
       "      <td>Regression</td>\n",
       "      <td>MetacriticAlbums</td>\n",
       "      <td>M5</td>\n",
       "      <td></td>\n",
       "      <td>17.127402</td>\n",
       "    </tr>\n",
       "  </tbody>\n",
       "</table>\n",
       "</div>"
      ],
      "text/plain": [
       "     task_name gold_standard_file model_name model_configuration  \\\n",
       "18  Regression   MetacriticAlbums         M5                       \n",
       "\n",
       "    root_mean_squared_error  \n",
       "18                17.127402  "
      ]
     },
     "execution_count": 11,
     "metadata": {},
     "output_type": "execute_result"
    }
   ],
   "source": [
    "worst_result"
   ]
  },
  {
   "cell_type": "code",
   "execution_count": 12,
   "metadata": {},
   "outputs": [],
   "source": [
    "models = data.model_name.unique()"
   ]
  },
  {
   "cell_type": "code",
   "execution_count": 13,
   "metadata": {},
   "outputs": [],
   "source": [
    "models_df = pd.DataFrame([], columns=['id', 'approach', 'conf', 'min', 'max', 'mean', 'standard_dev'])"
   ]
  },
  {
   "cell_type": "code",
   "execution_count": 14,
   "metadata": {},
   "outputs": [],
   "source": [
    "# it calculates the min, max, average and standard deviation for each model and, if more configuration are tested, for each conf\n",
    "for m in models:\n",
    "    model_data = data[data['model_name']==m]\n",
    "    model_configurations = model_data.model_configuration.unique()\n",
    "\n",
    "    if len(model_configurations)>1:\n",
    "        for conf in model_configurations:\n",
    "            model_data_conf = model_data[model_data['model_configuration']==conf]\n",
    "            model_rmse = model_data_conf.root_mean_squared_error\n",
    "            min_rmse = min(model_rmse)\n",
    "            max_rmse = max(model_rmse)\n",
    "            mean_rmse = sum(model_rmse)/len(model_rmse)\n",
    "            stdev_rmse = statistics.stdev(model_rmse)\n",
    "            model_id = m+' '+conf\n",
    "            \n",
    "            values = {'id' : model_id, 'approach' : m, 'conf' : conf, \n",
    "                      'min':min_rmse, 'max':max_rmse, 'mean':mean_rmse, 'standard_dev':stdev_rmse}\n",
    "            models_df = models_df.append(values, ignore_index=True)\n",
    "            \n",
    "    else:\n",
    "        conf = model_configurations[0]\n",
    "            \n",
    "        model_rmse = model_data.root_mean_squared_error\n",
    "        min_rmse = min(model_rmse)\n",
    "        max_rmse = max(model_rmse)\n",
    "        mean_rmse = sum(model_rmse)/len(model_rmse)\n",
    "        stdev_rmse = statistics.stdev(model_rmse)\n",
    "        model_id = m+' '+conf\n",
    "    \n",
    "        values = {'id' : model_id, 'approach' : m, 'conf' : conf, \n",
    "                  'min':min_rmse, 'max':max_rmse, 'mean':mean_rmse, 'standard_dev':stdev_rmse}\n",
    "        models_df = models_df.append(values, ignore_index=True)   "
   ]
  },
  {
   "cell_type": "code",
   "execution_count": 15,
   "metadata": {},
   "outputs": [
    {
     "data": {
      "text/html": [
       "<div>\n",
       "<style scoped>\n",
       "    .dataframe tbody tr th:only-of-type {\n",
       "        vertical-align: middle;\n",
       "    }\n",
       "\n",
       "    .dataframe tbody tr th {\n",
       "        vertical-align: top;\n",
       "    }\n",
       "\n",
       "    .dataframe thead th {\n",
       "        text-align: right;\n",
       "    }\n",
       "</style>\n",
       "<table border=\"1\" class=\"dataframe\">\n",
       "  <thead>\n",
       "    <tr style=\"text-align: right;\">\n",
       "      <th></th>\n",
       "      <th>id</th>\n",
       "      <th>approach</th>\n",
       "      <th>conf</th>\n",
       "      <th>min</th>\n",
       "      <th>max</th>\n",
       "      <th>mean</th>\n",
       "      <th>standard_dev</th>\n",
       "    </tr>\n",
       "  </thead>\n",
       "  <tbody>\n",
       "    <tr>\n",
       "      <th>0</th>\n",
       "      <td>KNN K=3</td>\n",
       "      <td>KNN</td>\n",
       "      <td>K=3</td>\n",
       "      <td>12.025971</td>\n",
       "      <td>12.172480</td>\n",
       "      <td>12.091682</td>\n",
       "      <td>0.045341</td>\n",
       "    </tr>\n",
       "    <tr>\n",
       "      <th>1</th>\n",
       "      <td>M5</td>\n",
       "      <td>M5</td>\n",
       "      <td></td>\n",
       "      <td>16.471955</td>\n",
       "      <td>17.127402</td>\n",
       "      <td>16.832133</td>\n",
       "      <td>0.185051</td>\n",
       "    </tr>\n",
       "    <tr>\n",
       "      <th>2</th>\n",
       "      <td>LR</td>\n",
       "      <td>LR</td>\n",
       "      <td></td>\n",
       "      <td>11.524901</td>\n",
       "      <td>11.711090</td>\n",
       "      <td>11.611136</td>\n",
       "      <td>0.059974</td>\n",
       "    </tr>\n",
       "  </tbody>\n",
       "</table>\n",
       "</div>"
      ],
      "text/plain": [
       "        id approach conf        min        max       mean  standard_dev\n",
       "0  KNN K=3      KNN  K=3  12.025971  12.172480  12.091682      0.045341\n",
       "1      M5        M5       16.471955  17.127402  16.832133      0.185051\n",
       "2      LR        LR       11.524901  11.711090  11.611136      0.059974"
      ]
     },
     "execution_count": 15,
     "metadata": {},
     "output_type": "execute_result"
    }
   ],
   "source": [
    "models_df"
   ]
  },
  {
   "cell_type": "code",
   "execution_count": 16,
   "metadata": {},
   "outputs": [
    {
     "data": {
      "text/plain": [
       "([0, 1, 2], <a list of 3 Text xticklabel objects>)"
      ]
     },
     "execution_count": 16,
     "metadata": {},
     "output_type": "execute_result"
    },
    {
     "data": {
      "image/png": "[encoded data removed]",
      "text/plain": [
       "<Figure size 432x288 with 1 Axes>"
      ]
     },
     "metadata": {
      "needs_background": "light"
     },
     "output_type": "display_data"
    }
   ],
   "source": [
    "# it plots the min values for the RMSE (root mean squared error)\n",
    "plt.plot(models_df.id, models_df['min'], marker = 'o')\n",
    "plt.xticks(rotation=65)\n",
    "#plt.grid(True)"
   ]
  },
  {
   "cell_type": "code",
   "execution_count": 17,
   "metadata": {},
   "outputs": [
    {
     "data": {
      "text/plain": [
       "([0, 1, 2], <a list of 3 Text xticklabel objects>)"
      ]
     },
     "execution_count": 17,
     "metadata": {},
     "output_type": "execute_result"
    },
    {
     "data": {
      "image/png": "[encoded data removed]",
      "text/plain": [
       "<Figure size 432x288 with 1 Axes>"
      ]
     },
     "metadata": {
      "needs_background": "light"
     },
     "output_type": "display_data"
    }
   ],
   "source": [
    "# it plots the mean and the standard deviation\n",
    "plt.errorbar(models_df.id, models_df['mean'], models_df['standard_dev'], linestyle='None', marker='^')\n",
    "plt.xticks(rotation=65)\n",
    "#plt.grid(True)"
   ]
  },
  {
   "cell_type": "code",
   "execution_count": 18,
   "metadata": {},
   "outputs": [
    {
     "data": {
      "text/plain": [
       "<matplotlib.legend.Legend at 0x12fb07d0>"
      ]
     },
     "execution_count": 18,
     "metadata": {},
     "output_type": "execute_result"
    },
    {
     "data": {
      "image/png": "[encoded data removed]",
      "text/plain": [
       "<Figure size 432x288 with 1 Axes>"
      ]
     },
     "metadata": {
      "needs_background": "light"
     },
     "output_type": "display_data"
    }
   ],
   "source": [
    "plt.plot(models_df.id, models_df['max'], marker = 'o', color='green')\n",
    "plt.plot(models_df.id, models_df['mean'], marker = '^', color='red')\n",
    "plt.plot(models_df.id, models_df['min'], marker = '.', color='blue')\n",
    "plt.xticks(rotation=65)\n",
    "plt.legend(('max', 'mean', 'min'))\n",
    "#plt.grid(True)"
   ]
  }
 ],
 "metadata": {
  "kernelspec": {
   "display_name": "Python 3",
   "language": "python",
   "name": "python3"
  },
  "language_info": {
   "codemirror_mode": {
    "name": "ipython",
    "version": 3
   },
   "file_extension": ".py",
   "mimetype": "text/x-python",
   "name": "python",
   "nbconvert_exporter": "python",
   "pygments_lexer": "ipython3",
   "version": "3.7.4"
  }
 },
 "nbformat": 4,
 "nbformat_minor": 2
}
