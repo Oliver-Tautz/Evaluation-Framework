{
 "cells": [
  {
   "cell_type": "code",
   "execution_count": 1,
   "metadata": {},
   "outputs": [],
   "source": [
    "import pandas as pd "
   ]
  },
  {
   "cell_type": "code",
   "execution_count": 2,
   "metadata": {},
   "outputs": [],
   "source": [
    "import statistics"
   ]
  },
  {
   "cell_type": "code",
   "execution_count": 3,
   "metadata": {},
   "outputs": [],
   "source": [
    "import matplotlib.pyplot as plt"
   ]
  },
  {
   "cell_type": "code",
   "execution_count": 4,
   "metadata": {},
   "outputs": [],
   "source": [
    "import numpy as np"
   ]
  },
  {
   "cell_type": "code",
   "execution_count": 5,
   "metadata": {},
   "outputs": [],
   "source": [
    "# it contains classification results by using university data\n",
    "filename = \"results/result_2019-12-10_18-46-11/classification_AAUP_results.csv\""
   ]
  },
  {
   "cell_type": "code",
   "execution_count": 6,
   "metadata": {},
   "outputs": [],
   "source": [
    "data = pd.read_csv(filename, keep_default_na=False)"
   ]
  },
  {
   "cell_type": "code",
   "execution_count": 7,
   "metadata": {},
   "outputs": [
    {
     "data": {
      "text/html": [
       "<div>\n",
       "<style scoped>\n",
       "    .dataframe tbody tr th:only-of-type {\n",
       "        vertical-align: middle;\n",
       "    }\n",
       "\n",
       "    .dataframe tbody tr th {\n",
       "        vertical-align: top;\n",
       "    }\n",
       "\n",
       "    .dataframe thead th {\n",
       "        text-align: right;\n",
       "    }\n",
       "</style>\n",
       "<table border=\"1\" class=\"dataframe\">\n",
       "  <thead>\n",
       "    <tr style=\"text-align: right;\">\n",
       "      <th></th>\n",
       "      <th>task_name</th>\n",
       "      <th>gold_standard_file</th>\n",
       "      <th>model_name</th>\n",
       "      <th>model_configuration</th>\n",
       "      <th>accuracy</th>\n",
       "    </tr>\n",
       "  </thead>\n",
       "  <tbody>\n",
       "    <tr>\n",
       "      <th>0</th>\n",
       "      <td>Classification</td>\n",
       "      <td>AAUP</td>\n",
       "      <td>KNN</td>\n",
       "      <td>K=3</td>\n",
       "      <td>0.643696</td>\n",
       "    </tr>\n",
       "    <tr>\n",
       "      <th>1</th>\n",
       "      <td>Classification</td>\n",
       "      <td>AAUP</td>\n",
       "      <td>KNN</td>\n",
       "      <td>K=3</td>\n",
       "      <td>0.629621</td>\n",
       "    </tr>\n",
       "    <tr>\n",
       "      <th>2</th>\n",
       "      <td>Classification</td>\n",
       "      <td>AAUP</td>\n",
       "      <td>KNN</td>\n",
       "      <td>K=3</td>\n",
       "      <td>0.638131</td>\n",
       "    </tr>\n",
       "    <tr>\n",
       "      <th>3</th>\n",
       "      <td>Classification</td>\n",
       "      <td>AAUP</td>\n",
       "      <td>KNN</td>\n",
       "      <td>K=3</td>\n",
       "      <td>0.633973</td>\n",
       "    </tr>\n",
       "    <tr>\n",
       "      <th>4</th>\n",
       "      <td>Classification</td>\n",
       "      <td>AAUP</td>\n",
       "      <td>KNN</td>\n",
       "      <td>K=3</td>\n",
       "      <td>0.632804</td>\n",
       "    </tr>\n",
       "  </tbody>\n",
       "</table>\n",
       "</div>"
      ],
      "text/plain": [
       "        task_name gold_standard_file model_name model_configuration  accuracy\n",
       "0  Classification               AAUP        KNN                 K=3  0.643696\n",
       "1  Classification               AAUP        KNN                 K=3  0.629621\n",
       "2  Classification               AAUP        KNN                 K=3  0.638131\n",
       "3  Classification               AAUP        KNN                 K=3  0.633973\n",
       "4  Classification               AAUP        KNN                 K=3  0.632804"
      ]
     },
     "execution_count": 7,
     "metadata": {},
     "output_type": "execute_result"
    }
   ],
   "source": [
    "data.head()"
   ]
  },
  {
   "cell_type": "code",
   "execution_count": 8,
   "metadata": {},
   "outputs": [],
   "source": [
    "# the best method able to manage university data\n",
    "best_result = data[data.accuracy==max(data.accuracy)]"
   ]
  },
  {
   "cell_type": "code",
   "execution_count": 9,
   "metadata": {},
   "outputs": [
    {
     "data": {
      "text/html": [
       "<div>\n",
       "<style scoped>\n",
       "    .dataframe tbody tr th:only-of-type {\n",
       "        vertical-align: middle;\n",
       "    }\n",
       "\n",
       "    .dataframe tbody tr th {\n",
       "        vertical-align: top;\n",
       "    }\n",
       "\n",
       "    .dataframe thead th {\n",
       "        text-align: right;\n",
       "    }\n",
       "</style>\n",
       "<table border=\"1\" class=\"dataframe\">\n",
       "  <thead>\n",
       "    <tr style=\"text-align: right;\">\n",
       "      <th></th>\n",
       "      <th>task_name</th>\n",
       "      <th>gold_standard_file</th>\n",
       "      <th>model_name</th>\n",
       "      <th>model_configuration</th>\n",
       "      <th>accuracy</th>\n",
       "    </tr>\n",
       "  </thead>\n",
       "  <tbody>\n",
       "    <tr>\n",
       "      <th>90</th>\n",
       "      <td>Classification</td>\n",
       "      <td>AAUP</td>\n",
       "      <td>SVM</td>\n",
       "      <td>C=10.0</td>\n",
       "      <td>0.713471</td>\n",
       "    </tr>\n",
       "  </tbody>\n",
       "</table>\n",
       "</div>"
      ],
      "text/plain": [
       "         task_name gold_standard_file model_name model_configuration  accuracy\n",
       "90  Classification               AAUP        SVM              C=10.0  0.713471"
      ]
     },
     "execution_count": 9,
     "metadata": {},
     "output_type": "execute_result"
    }
   ],
   "source": [
    "best_result"
   ]
  },
  {
   "cell_type": "code",
   "execution_count": 10,
   "metadata": {},
   "outputs": [],
   "source": [
    "# the worst method in working with university data\n",
    "worst_result = data[data.accuracy==min(data.accuracy)]"
   ]
  },
  {
   "cell_type": "code",
   "execution_count": 11,
   "metadata": {},
   "outputs": [
    {
     "data": {
      "text/html": [
       "<div>\n",
       "<style scoped>\n",
       "    .dataframe tbody tr th:only-of-type {\n",
       "        vertical-align: middle;\n",
       "    }\n",
       "\n",
       "    .dataframe tbody tr th {\n",
       "        vertical-align: top;\n",
       "    }\n",
       "\n",
       "    .dataframe thead th {\n",
       "        text-align: right;\n",
       "    }\n",
       "</style>\n",
       "<table border=\"1\" class=\"dataframe\">\n",
       "  <thead>\n",
       "    <tr style=\"text-align: right;\">\n",
       "      <th></th>\n",
       "      <th>task_name</th>\n",
       "      <th>gold_standard_file</th>\n",
       "      <th>model_name</th>\n",
       "      <th>model_configuration</th>\n",
       "      <th>accuracy</th>\n",
       "    </tr>\n",
       "  </thead>\n",
       "  <tbody>\n",
       "    <tr>\n",
       "      <th>12</th>\n",
       "      <td>Classification</td>\n",
       "      <td>AAUP</td>\n",
       "      <td>C45</td>\n",
       "      <td></td>\n",
       "      <td>0.528502</td>\n",
       "    </tr>\n",
       "  </tbody>\n",
       "</table>\n",
       "</div>"
      ],
      "text/plain": [
       "         task_name gold_standard_file model_name model_configuration  accuracy\n",
       "12  Classification               AAUP        C45                      0.528502"
      ]
     },
     "execution_count": 11,
     "metadata": {},
     "output_type": "execute_result"
    }
   ],
   "source": [
    "worst_result"
   ]
  },
  {
   "cell_type": "code",
   "execution_count": 12,
   "metadata": {},
   "outputs": [],
   "source": [
    "models = data.model_name.unique()"
   ]
  },
  {
   "cell_type": "code",
   "execution_count": 13,
   "metadata": {},
   "outputs": [],
   "source": [
    "models_df = pd.DataFrame([], columns=['id', 'approach', 'conf', 'min', 'max', 'mean', 'standard_dev'])"
   ]
  },
  {
   "cell_type": "code",
   "execution_count": 14,
   "metadata": {},
   "outputs": [],
   "source": [
    "# it calculates the min, max, average and standard deviation for each model and, if more configuration are tested, for each conf\n",
    "for m in models:\n",
    "    model_data = data[data['model_name']==m]\n",
    "    model_configurations = model_data.model_configuration.unique()\n",
    "\n",
    "    if len(model_configurations)>1:\n",
    "        for conf in model_configurations:\n",
    "            model_data_conf = model_data[model_data['model_configuration']==conf]\n",
    "            model_accuracy = model_data_conf.accuracy\n",
    "            min_accuracy = min(model_accuracy)\n",
    "            max_accuracy = max(model_accuracy)\n",
    "            mean_accuracy = sum(model_accuracy)/len(model_accuracy)\n",
    "            stdev_accuracy = statistics.stdev(model_accuracy)\n",
    "            model_id = m+' '+conf\n",
    "            \n",
    "            values = {'id' : model_id, 'approach' : m, 'conf' : conf, 'min':min_accuracy, 'max':max_accuracy, 'mean':mean_accuracy, 'standard_dev':stdev_accuracy}\n",
    "            models_df = models_df.append(values, ignore_index=True)\n",
    "            \n",
    "    else:\n",
    "        conf = model_configurations[0]\n",
    "            \n",
    "        model_accuracy = model_data.accuracy\n",
    "        min_accuracy = min(model_accuracy)\n",
    "        max_accuracy = max(model_accuracy)\n",
    "        mean_accuracy = sum(model_accuracy)/len(model_accuracy)\n",
    "        stdev_accuracy = statistics.stdev(model_accuracy)\n",
    "        model_id = m+' '+conf\n",
    "    \n",
    "        values = {'id' : model_id, 'approach' : m, 'conf' : conf, 'min':min_accuracy, 'max':max_accuracy, 'mean':mean_accuracy, 'standard_dev':stdev_accuracy}\n",
    "        models_df = models_df.append(values, ignore_index=True)   "
   ]
  },
  {
   "cell_type": "code",
   "execution_count": 15,
   "metadata": {},
   "outputs": [
    {
     "data": {
      "text/html": [
       "<div>\n",
       "<style scoped>\n",
       "    .dataframe tbody tr th:only-of-type {\n",
       "        vertical-align: middle;\n",
       "    }\n",
       "\n",
       "    .dataframe tbody tr th {\n",
       "        vertical-align: top;\n",
       "    }\n",
       "\n",
       "    .dataframe thead th {\n",
       "        text-align: right;\n",
       "    }\n",
       "</style>\n",
       "<table border=\"1\" class=\"dataframe\">\n",
       "  <thead>\n",
       "    <tr style=\"text-align: right;\">\n",
       "      <th></th>\n",
       "      <th>id</th>\n",
       "      <th>approach</th>\n",
       "      <th>conf</th>\n",
       "      <th>min</th>\n",
       "      <th>max</th>\n",
       "      <th>mean</th>\n",
       "      <th>standard_dev</th>\n",
       "    </tr>\n",
       "  </thead>\n",
       "  <tbody>\n",
       "    <tr>\n",
       "      <th>0</th>\n",
       "      <td>KNN K=3</td>\n",
       "      <td>KNN</td>\n",
       "      <td>K=3</td>\n",
       "      <td>0.629621</td>\n",
       "      <td>0.643980</td>\n",
       "      <td>0.637196</td>\n",
       "      <td>0.004761</td>\n",
       "    </tr>\n",
       "    <tr>\n",
       "      <th>1</th>\n",
       "      <td>C45</td>\n",
       "      <td>C45</td>\n",
       "      <td></td>\n",
       "      <td>0.528502</td>\n",
       "      <td>0.571957</td>\n",
       "      <td>0.555628</td>\n",
       "      <td>0.013034</td>\n",
       "    </tr>\n",
       "    <tr>\n",
       "      <th>2</th>\n",
       "      <td>NB</td>\n",
       "      <td>NB</td>\n",
       "      <td></td>\n",
       "      <td>0.582938</td>\n",
       "      <td>0.591222</td>\n",
       "      <td>0.587488</td>\n",
       "      <td>0.003074</td>\n",
       "    </tr>\n",
       "    <tr>\n",
       "      <th>3</th>\n",
       "      <td>SVM C=0.001</td>\n",
       "      <td>SVM</td>\n",
       "      <td>C=0.001</td>\n",
       "      <td>0.545788</td>\n",
       "      <td>0.545788</td>\n",
       "      <td>0.545788</td>\n",
       "      <td>0.000000</td>\n",
       "    </tr>\n",
       "    <tr>\n",
       "      <th>4</th>\n",
       "      <td>SVM C=0.01</td>\n",
       "      <td>SVM</td>\n",
       "      <td>C=0.01</td>\n",
       "      <td>0.545788</td>\n",
       "      <td>0.545788</td>\n",
       "      <td>0.545788</td>\n",
       "      <td>0.000000</td>\n",
       "    </tr>\n",
       "    <tr>\n",
       "      <th>5</th>\n",
       "      <td>SVM C=0.1</td>\n",
       "      <td>SVM</td>\n",
       "      <td>C=0.1</td>\n",
       "      <td>0.545788</td>\n",
       "      <td>0.545788</td>\n",
       "      <td>0.545788</td>\n",
       "      <td>0.000000</td>\n",
       "    </tr>\n",
       "    <tr>\n",
       "      <th>6</th>\n",
       "      <td>SVM C=1.0</td>\n",
       "      <td>SVM</td>\n",
       "      <td>C=1.0</td>\n",
       "      <td>0.639279</td>\n",
       "      <td>0.646106</td>\n",
       "      <td>0.641633</td>\n",
       "      <td>0.002115</td>\n",
       "    </tr>\n",
       "    <tr>\n",
       "      <th>7</th>\n",
       "      <td>SVM C=10.0</td>\n",
       "      <td>SVM</td>\n",
       "      <td>C=10.0</td>\n",
       "      <td>0.697154</td>\n",
       "      <td>0.713471</td>\n",
       "      <td>0.707585</td>\n",
       "      <td>0.005685</td>\n",
       "    </tr>\n",
       "    <tr>\n",
       "      <th>8</th>\n",
       "      <td>SVM C=100</td>\n",
       "      <td>SVM</td>\n",
       "      <td>C=100</td>\n",
       "      <td>0.639266</td>\n",
       "      <td>0.660087</td>\n",
       "      <td>0.652649</td>\n",
       "      <td>0.006307</td>\n",
       "    </tr>\n",
       "    <tr>\n",
       "      <th>9</th>\n",
       "      <td>SVM C=1000</td>\n",
       "      <td>SVM</td>\n",
       "      <td>C=1000</td>\n",
       "      <td>0.645871</td>\n",
       "      <td>0.665603</td>\n",
       "      <td>0.655751</td>\n",
       "      <td>0.006515</td>\n",
       "    </tr>\n",
       "  </tbody>\n",
       "</table>\n",
       "</div>"
      ],
      "text/plain": [
       "            id approach     conf       min       max      mean  standard_dev\n",
       "0      KNN K=3      KNN      K=3  0.629621  0.643980  0.637196      0.004761\n",
       "1         C45       C45           0.528502  0.571957  0.555628      0.013034\n",
       "2          NB        NB           0.582938  0.591222  0.587488      0.003074\n",
       "3  SVM C=0.001      SVM  C=0.001  0.545788  0.545788  0.545788      0.000000\n",
       "4   SVM C=0.01      SVM   C=0.01  0.545788  0.545788  0.545788      0.000000\n",
       "5    SVM C=0.1      SVM    C=0.1  0.545788  0.545788  0.545788      0.000000\n",
       "6    SVM C=1.0      SVM    C=1.0  0.639279  0.646106  0.641633      0.002115\n",
       "7   SVM C=10.0      SVM   C=10.0  0.697154  0.713471  0.707585      0.005685\n",
       "8    SVM C=100      SVM    C=100  0.639266  0.660087  0.652649      0.006307\n",
       "9   SVM C=1000      SVM   C=1000  0.645871  0.665603  0.655751      0.006515"
      ]
     },
     "execution_count": 15,
     "metadata": {},
     "output_type": "execute_result"
    }
   ],
   "source": [
    "models_df"
   ]
  },
  {
   "cell_type": "code",
   "execution_count": 16,
   "metadata": {},
   "outputs": [
    {
     "data": {
      "text/plain": [
       "(0, 1)"
      ]
     },
     "execution_count": 16,
     "metadata": {},
     "output_type": "execute_result"
    },
    {
     "data": {
      "image/png": "[encoded data removed]",
      "text/plain": [
       "<Figure size 432x288 with 1 Axes>"
      ]
     },
     "metadata": {
      "needs_background": "light"
     },
     "output_type": "display_data"
    }
   ],
   "source": [
    "# it plots the max values for the accuracy\n",
    "plt.plot(models_df.id, models_df['max'], marker = 'o')\n",
    "plt.xticks(rotation=65)\n",
    "#plt.grid(True)\n",
    "plt.ylim((0,1))"
   ]
  },
  {
   "cell_type": "code",
   "execution_count": 17,
   "metadata": {},
   "outputs": [
    {
     "data": {
      "text/plain": [
       "(0, 1)"
      ]
     },
     "execution_count": 17,
     "metadata": {},
     "output_type": "execute_result"
    },
    {
     "data": {
      "image/png": "[encoded data removed]",
      "text/plain": [
       "<Figure size 432x288 with 1 Axes>"
      ]
     },
     "metadata": {
      "needs_background": "light"
     },
     "output_type": "display_data"
    }
   ],
   "source": [
    "# it plots the mean and the standard deviation\n",
    "plt.errorbar(models_df.id, models_df['mean'], models_df['standard_dev'], linestyle='None', marker='^')\n",
    "plt.xticks(rotation=65)\n",
    "#plt.grid(True)\n",
    "plt.ylim((0,1))"
   ]
  },
  {
   "cell_type": "code",
   "execution_count": 18,
   "metadata": {},
   "outputs": [
    {
     "data": {
      "text/plain": [
       "(0, 1)"
      ]
     },
     "execution_count": 18,
     "metadata": {},
     "output_type": "execute_result"
    },
    {
     "data": {
      "image/png": "[encoded data removed]",
      "text/plain": [
       "<Figure size 432x288 with 1 Axes>"
      ]
     },
     "metadata": {
      "needs_background": "light"
     },
     "output_type": "display_data"
    }
   ],
   "source": [
    "plt.plot(models_df.id, models_df['max'], marker = 'o', color='green')\n",
    "plt.plot(models_df.id, models_df['mean'], marker = '^', color='red')\n",
    "plt.plot(models_df.id, models_df['min'], marker = '.', color='blue')\n",
    "plt.xticks(rotation=65)\n",
    "plt.legend(('max', 'mean', 'min'))\n",
    "#plt.grid(True)\n",
    "plt.ylim((0,1))"
   ]
  }
 ],
 "metadata": {
  "kernelspec": {
   "display_name": "Python 3",
   "language": "python",
   "name": "python3"
  },
  "language_info": {
   "codemirror_mode": {
    "name": "ipython",
    "version": 3
   },
   "file_extension": ".py",
   "mimetype": "text/x-python",
   "name": "python",
   "nbconvert_exporter": "python",
   "pygments_lexer": "ipython3",
   "version": "3.7.4"
  }
 },
 "nbformat": 4,
 "nbformat_minor": 2
}
