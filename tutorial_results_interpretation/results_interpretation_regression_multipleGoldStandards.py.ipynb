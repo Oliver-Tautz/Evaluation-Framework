{
 "cells": [
  {
   "cell_type": "code",
   "execution_count": 1,
   "metadata": {},
   "outputs": [],
   "source": [
    "import pandas as pd "
   ]
  },
  {
   "cell_type": "code",
   "execution_count": 2,
   "metadata": {},
   "outputs": [],
   "source": [
    "import statistics"
   ]
  },
  {
   "cell_type": "code",
   "execution_count": 3,
   "metadata": {},
   "outputs": [],
   "source": [
    "import matplotlib.pyplot as plt"
   ]
  },
  {
   "cell_type": "code",
   "execution_count": 4,
   "metadata": {},
   "outputs": [],
   "source": [
    "import numpy as np"
   ]
  },
  {
   "cell_type": "code",
   "execution_count": 5,
   "metadata": {},
   "outputs": [],
   "source": [
    "# it contains regression results \n",
    "filenames = [\"results/result_2019-12-10_18-32-10/regression_AAUP_results.csv\", \n",
    "             \"results/result_2019-12-10_18-32-10/regression_Cities_results.csv\", \n",
    "             \"results/result_2019-12-10_18-32-10/regression_Forbes_results.csv\", \n",
    "             \"results/result_2019-12-10_18-32-10/regression_MetacriticMovies_results.csv\", \n",
    "             \"results/result_2019-12-10_18-32-10/regression_MetacriticAlbums_results.csv\"]"
   ]
  },
  {
   "cell_type": "code",
   "execution_count": 6,
   "metadata": {},
   "outputs": [],
   "source": [
    "data = pd.DataFrame()\n",
    "for filename in filenames:\n",
    "    curr_data = pd.read_csv(filename, keep_default_na=False)\n",
    "    frames = [data, curr_data]\n",
    "    data = pd.concat(frames)"
   ]
  },
  {
   "cell_type": "code",
   "execution_count": 7,
   "metadata": {},
   "outputs": [
    {
     "data": {
      "text/html": [
       "<div>\n",
       "<style scoped>\n",
       "    .dataframe tbody tr th:only-of-type {\n",
       "        vertical-align: middle;\n",
       "    }\n",
       "\n",
       "    .dataframe tbody tr th {\n",
       "        vertical-align: top;\n",
       "    }\n",
       "\n",
       "    .dataframe thead th {\n",
       "        text-align: right;\n",
       "    }\n",
       "</style>\n",
       "<table border=\"1\" class=\"dataframe\">\n",
       "  <thead>\n",
       "    <tr style=\"text-align: right;\">\n",
       "      <th></th>\n",
       "      <th>task_name</th>\n",
       "      <th>gold_standard_file</th>\n",
       "      <th>model_name</th>\n",
       "      <th>model_configuration</th>\n",
       "      <th>root_mean_squared_error</th>\n",
       "    </tr>\n",
       "  </thead>\n",
       "  <tbody>\n",
       "    <tr>\n",
       "      <th>0</th>\n",
       "      <td>Regression</td>\n",
       "      <td>AAUP</td>\n",
       "      <td>KNN</td>\n",
       "      <td>K=3</td>\n",
       "      <td>70.100974</td>\n",
       "    </tr>\n",
       "    <tr>\n",
       "      <th>1</th>\n",
       "      <td>Regression</td>\n",
       "      <td>AAUP</td>\n",
       "      <td>KNN</td>\n",
       "      <td>K=3</td>\n",
       "      <td>69.835546</td>\n",
       "    </tr>\n",
       "    <tr>\n",
       "      <th>2</th>\n",
       "      <td>Regression</td>\n",
       "      <td>AAUP</td>\n",
       "      <td>KNN</td>\n",
       "      <td>K=3</td>\n",
       "      <td>69.592306</td>\n",
       "    </tr>\n",
       "    <tr>\n",
       "      <th>3</th>\n",
       "      <td>Regression</td>\n",
       "      <td>AAUP</td>\n",
       "      <td>KNN</td>\n",
       "      <td>K=3</td>\n",
       "      <td>68.918789</td>\n",
       "    </tr>\n",
       "    <tr>\n",
       "      <th>4</th>\n",
       "      <td>Regression</td>\n",
       "      <td>AAUP</td>\n",
       "      <td>KNN</td>\n",
       "      <td>K=3</td>\n",
       "      <td>70.500928</td>\n",
       "    </tr>\n",
       "  </tbody>\n",
       "</table>\n",
       "</div>"
      ],
      "text/plain": [
       "    task_name gold_standard_file model_name model_configuration  \\\n",
       "0  Regression               AAUP        KNN                 K=3   \n",
       "1  Regression               AAUP        KNN                 K=3   \n",
       "2  Regression               AAUP        KNN                 K=3   \n",
       "3  Regression               AAUP        KNN                 K=3   \n",
       "4  Regression               AAUP        KNN                 K=3   \n",
       "\n",
       "   root_mean_squared_error  \n",
       "0                70.100974  \n",
       "1                69.835546  \n",
       "2                69.592306  \n",
       "3                68.918789  \n",
       "4                70.500928  "
      ]
     },
     "execution_count": 7,
     "metadata": {},
     "output_type": "execute_result"
    }
   ],
   "source": [
    "data.head()"
   ]
  },
  {
   "cell_type": "code",
   "execution_count": 8,
   "metadata": {},
   "outputs": [],
   "source": [
    "# the best method able to manage any dataset used as gold standard\n",
    "best_result = data[data.root_mean_squared_error==min(data.root_mean_squared_error)]"
   ]
  },
  {
   "cell_type": "code",
   "execution_count": 9,
   "metadata": {},
   "outputs": [
    {
     "data": {
      "text/html": [
       "<div>\n",
       "<style scoped>\n",
       "    .dataframe tbody tr th:only-of-type {\n",
       "        vertical-align: middle;\n",
       "    }\n",
       "\n",
       "    .dataframe tbody tr th {\n",
       "        vertical-align: top;\n",
       "    }\n",
       "\n",
       "    .dataframe thead th {\n",
       "        text-align: right;\n",
       "    }\n",
       "</style>\n",
       "<table border=\"1\" class=\"dataframe\">\n",
       "  <thead>\n",
       "    <tr style=\"text-align: right;\">\n",
       "      <th></th>\n",
       "      <th>task_name</th>\n",
       "      <th>gold_standard_file</th>\n",
       "      <th>model_name</th>\n",
       "      <th>model_configuration</th>\n",
       "      <th>root_mean_squared_error</th>\n",
       "    </tr>\n",
       "  </thead>\n",
       "  <tbody>\n",
       "    <tr>\n",
       "      <th>22</th>\n",
       "      <td>Regression</td>\n",
       "      <td>MetacriticAlbums</td>\n",
       "      <td>LR</td>\n",
       "      <td></td>\n",
       "      <td>11.524901</td>\n",
       "    </tr>\n",
       "  </tbody>\n",
       "</table>\n",
       "</div>"
      ],
      "text/plain": [
       "     task_name gold_standard_file model_name model_configuration  \\\n",
       "22  Regression   MetacriticAlbums         LR                       \n",
       "\n",
       "    root_mean_squared_error  \n",
       "22                11.524901  "
      ]
     },
     "execution_count": 9,
     "metadata": {},
     "output_type": "execute_result"
    }
   ],
   "source": [
    "best_result"
   ]
  },
  {
   "cell_type": "code",
   "execution_count": 10,
   "metadata": {},
   "outputs": [],
   "source": [
    "# the worst method in working with any dataset used as gold standard\n",
    "worst_result = data[data.root_mean_squared_error==max(data.root_mean_squared_error)]"
   ]
  },
  {
   "cell_type": "code",
   "execution_count": 11,
   "metadata": {},
   "outputs": [
    {
     "data": {
      "text/html": [
       "<div>\n",
       "<style scoped>\n",
       "    .dataframe tbody tr th:only-of-type {\n",
       "        vertical-align: middle;\n",
       "    }\n",
       "\n",
       "    .dataframe tbody tr th {\n",
       "        vertical-align: top;\n",
       "    }\n",
       "\n",
       "    .dataframe thead th {\n",
       "        text-align: right;\n",
       "    }\n",
       "</style>\n",
       "<table border=\"1\" class=\"dataframe\">\n",
       "  <thead>\n",
       "    <tr style=\"text-align: right;\">\n",
       "      <th></th>\n",
       "      <th>task_name</th>\n",
       "      <th>gold_standard_file</th>\n",
       "      <th>model_name</th>\n",
       "      <th>model_configuration</th>\n",
       "      <th>root_mean_squared_error</th>\n",
       "    </tr>\n",
       "  </thead>\n",
       "  <tbody>\n",
       "    <tr>\n",
       "      <th>14</th>\n",
       "      <td>Regression</td>\n",
       "      <td>AAUP</td>\n",
       "      <td>M5</td>\n",
       "      <td></td>\n",
       "      <td>91.05142</td>\n",
       "    </tr>\n",
       "  </tbody>\n",
       "</table>\n",
       "</div>"
      ],
      "text/plain": [
       "     task_name gold_standard_file model_name model_configuration  \\\n",
       "14  Regression               AAUP         M5                       \n",
       "\n",
       "    root_mean_squared_error  \n",
       "14                 91.05142  "
      ]
     },
     "execution_count": 11,
     "metadata": {},
     "output_type": "execute_result"
    }
   ],
   "source": [
    "worst_result"
   ]
  },
  {
   "cell_type": "code",
   "execution_count": 12,
   "metadata": {},
   "outputs": [],
   "source": [
    "gold_standard = data.gold_standard_file.unique()"
   ]
  },
  {
   "cell_type": "code",
   "execution_count": 13,
   "metadata": {},
   "outputs": [],
   "source": [
    "models_df = pd.DataFrame([], columns=['file', 'id', 'approach', 'conf', 'min', 'max', 'mean', 'standard_dev'])"
   ]
  },
  {
   "cell_type": "code",
   "execution_count": 14,
   "metadata": {},
   "outputs": [],
   "source": [
    "# it calculates the min, max, average and standard deviation for each model and, if more configuration are tested, for each conf\n",
    "for file in gold_standard:\n",
    "    gold_standard_data = data[data['gold_standard_file']==file]\n",
    "    models = gold_standard_data.model_name.unique()\n",
    "    \n",
    "    for m in models:\n",
    "        model_data = gold_standard_data[gold_standard_data['model_name']==m]\n",
    "        model_configurations = model_data.model_configuration.unique()\n",
    "\n",
    "        if len(model_configurations)>1:\n",
    "            min_rmse = min(model_data['root_mean_squared_error'])\n",
    "            best_conf = model_data[model_data['root_mean_squared_error']==min_rmse].model_configuration.values[0]\n",
    "            best_conf_df = model_data[model_data['model_configuration']==best_conf]\n",
    "            \n",
    "            model_id = m+' '+best_conf\n",
    "            \n",
    "            model_rmse = best_conf_df.root_mean_squared_error\n",
    "            max_rmse = max(model_rmse)\n",
    "            mean_rmse = sum(model_rmse)/len(model_rmse)\n",
    "            stdev_rmse = statistics.stdev(model_rmse)\n",
    "            \n",
    "            values = {'file': file, 'id' : model_id, 'approach' : m, 'conf' : conf, \n",
    "                      'min':min_rmse, 'max':max_rmse, 'mean':mean_rmse, 'standard_dev':stdev_rmse}\n",
    "            models_df = models_df.append(values, ignore_index=True)\n",
    "\n",
    "        else:\n",
    "            conf = model_configurations[0]\n",
    "\n",
    "            model_rmse = model_data.root_mean_squared_error\n",
    "            min_rmse = min(model_rmse)\n",
    "            max_rmse = max(model_rmse)\n",
    "            mean_rmse = sum(model_rmse)/len(model_rmse)\n",
    "            stdev_rmse = statistics.stdev(model_rmse)\n",
    "\n",
    "            model_id = m+' '+conf\n",
    "\n",
    "            values = {'file': file, 'id' : model_id, 'approach' : m, 'conf' : conf, \n",
    "                      'min':min_rmse, 'max':max_rmse, 'mean':mean_rmse, 'standard_dev':stdev_rmse}\n",
    "            models_df = models_df.append(values, ignore_index=True)   "
   ]
  },
  {
   "cell_type": "code",
   "execution_count": 15,
   "metadata": {},
   "outputs": [
    {
     "data": {
      "text/html": [
       "<div>\n",
       "<style scoped>\n",
       "    .dataframe tbody tr th:only-of-type {\n",
       "        vertical-align: middle;\n",
       "    }\n",
       "\n",
       "    .dataframe tbody tr th {\n",
       "        vertical-align: top;\n",
       "    }\n",
       "\n",
       "    .dataframe thead th {\n",
       "        text-align: right;\n",
       "    }\n",
       "</style>\n",
       "<table border=\"1\" class=\"dataframe\">\n",
       "  <thead>\n",
       "    <tr style=\"text-align: right;\">\n",
       "      <th></th>\n",
       "      <th>file</th>\n",
       "      <th>id</th>\n",
       "      <th>approach</th>\n",
       "      <th>conf</th>\n",
       "      <th>min</th>\n",
       "      <th>max</th>\n",
       "      <th>mean</th>\n",
       "      <th>standard_dev</th>\n",
       "    </tr>\n",
       "  </thead>\n",
       "  <tbody>\n",
       "    <tr>\n",
       "      <th>0</th>\n",
       "      <td>AAUP</td>\n",
       "      <td>KNN K=3</td>\n",
       "      <td>KNN</td>\n",
       "      <td>K=3</td>\n",
       "      <td>68.781675</td>\n",
       "      <td>70.500928</td>\n",
       "      <td>69.562932</td>\n",
       "      <td>0.551729</td>\n",
       "    </tr>\n",
       "    <tr>\n",
       "      <th>1</th>\n",
       "      <td>AAUP</td>\n",
       "      <td>M5</td>\n",
       "      <td>M5</td>\n",
       "      <td></td>\n",
       "      <td>84.381095</td>\n",
       "      <td>91.051420</td>\n",
       "      <td>88.456134</td>\n",
       "      <td>2.125054</td>\n",
       "    </tr>\n",
       "    <tr>\n",
       "      <th>2</th>\n",
       "      <td>AAUP</td>\n",
       "      <td>LR</td>\n",
       "      <td>LR</td>\n",
       "      <td></td>\n",
       "      <td>60.621914</td>\n",
       "      <td>62.166172</td>\n",
       "      <td>61.458090</td>\n",
       "      <td>0.515045</td>\n",
       "    </tr>\n",
       "    <tr>\n",
       "      <th>3</th>\n",
       "      <td>Cities</td>\n",
       "      <td>KNN K=3</td>\n",
       "      <td>KNN</td>\n",
       "      <td>K=3</td>\n",
       "      <td>14.142227</td>\n",
       "      <td>14.996545</td>\n",
       "      <td>14.578379</td>\n",
       "      <td>0.290759</td>\n",
       "    </tr>\n",
       "    <tr>\n",
       "      <th>4</th>\n",
       "      <td>Cities</td>\n",
       "      <td>M5</td>\n",
       "      <td>M5</td>\n",
       "      <td></td>\n",
       "      <td>21.869611</td>\n",
       "      <td>26.196099</td>\n",
       "      <td>23.858623</td>\n",
       "      <td>1.350624</td>\n",
       "    </tr>\n",
       "    <tr>\n",
       "      <th>5</th>\n",
       "      <td>Cities</td>\n",
       "      <td>LR</td>\n",
       "      <td>LR</td>\n",
       "      <td></td>\n",
       "      <td>28.267730</td>\n",
       "      <td>32.863943</td>\n",
       "      <td>30.889955</td>\n",
       "      <td>1.310695</td>\n",
       "    </tr>\n",
       "    <tr>\n",
       "      <th>6</th>\n",
       "      <td>Forbes</td>\n",
       "      <td>KNN K=3</td>\n",
       "      <td>KNN</td>\n",
       "      <td>K=3</td>\n",
       "      <td>33.856582</td>\n",
       "      <td>34.922806</td>\n",
       "      <td>34.294946</td>\n",
       "      <td>0.389875</td>\n",
       "    </tr>\n",
       "    <tr>\n",
       "      <th>7</th>\n",
       "      <td>Forbes</td>\n",
       "      <td>M5</td>\n",
       "      <td>M5</td>\n",
       "      <td></td>\n",
       "      <td>46.529836</td>\n",
       "      <td>52.224101</td>\n",
       "      <td>49.157352</td>\n",
       "      <td>1.816904</td>\n",
       "    </tr>\n",
       "    <tr>\n",
       "      <th>8</th>\n",
       "      <td>Forbes</td>\n",
       "      <td>LR</td>\n",
       "      <td>LR</td>\n",
       "      <td></td>\n",
       "      <td>34.769066</td>\n",
       "      <td>35.579306</td>\n",
       "      <td>35.048309</td>\n",
       "      <td>0.269028</td>\n",
       "    </tr>\n",
       "    <tr>\n",
       "      <th>9</th>\n",
       "      <td>MetacriticMovies</td>\n",
       "      <td>KNN K=3</td>\n",
       "      <td>KNN</td>\n",
       "      <td>K=3</td>\n",
       "      <td>18.485689</td>\n",
       "      <td>18.942510</td>\n",
       "      <td>18.744432</td>\n",
       "      <td>0.148148</td>\n",
       "    </tr>\n",
       "    <tr>\n",
       "      <th>10</th>\n",
       "      <td>MetacriticMovies</td>\n",
       "      <td>M5</td>\n",
       "      <td>M5</td>\n",
       "      <td></td>\n",
       "      <td>25.221999</td>\n",
       "      <td>26.750459</td>\n",
       "      <td>25.974892</td>\n",
       "      <td>0.517983</td>\n",
       "    </tr>\n",
       "    <tr>\n",
       "      <th>11</th>\n",
       "      <td>MetacriticMovies</td>\n",
       "      <td>LR</td>\n",
       "      <td>LR</td>\n",
       "      <td></td>\n",
       "      <td>16.593603</td>\n",
       "      <td>16.821244</td>\n",
       "      <td>16.699149</td>\n",
       "      <td>0.056140</td>\n",
       "    </tr>\n",
       "    <tr>\n",
       "      <th>12</th>\n",
       "      <td>MetacriticAlbums</td>\n",
       "      <td>KNN K=3</td>\n",
       "      <td>KNN</td>\n",
       "      <td>K=3</td>\n",
       "      <td>12.025971</td>\n",
       "      <td>12.172480</td>\n",
       "      <td>12.091682</td>\n",
       "      <td>0.045341</td>\n",
       "    </tr>\n",
       "    <tr>\n",
       "      <th>13</th>\n",
       "      <td>MetacriticAlbums</td>\n",
       "      <td>M5</td>\n",
       "      <td>M5</td>\n",
       "      <td></td>\n",
       "      <td>16.471955</td>\n",
       "      <td>17.127402</td>\n",
       "      <td>16.832133</td>\n",
       "      <td>0.185051</td>\n",
       "    </tr>\n",
       "    <tr>\n",
       "      <th>14</th>\n",
       "      <td>MetacriticAlbums</td>\n",
       "      <td>LR</td>\n",
       "      <td>LR</td>\n",
       "      <td></td>\n",
       "      <td>11.524901</td>\n",
       "      <td>11.711090</td>\n",
       "      <td>11.611136</td>\n",
       "      <td>0.059974</td>\n",
       "    </tr>\n",
       "  </tbody>\n",
       "</table>\n",
       "</div>"
      ],
      "text/plain": [
       "                file       id approach conf        min        max       mean  \\\n",
       "0               AAUP  KNN K=3      KNN  K=3  68.781675  70.500928  69.562932   \n",
       "1               AAUP      M5        M5       84.381095  91.051420  88.456134   \n",
       "2               AAUP      LR        LR       60.621914  62.166172  61.458090   \n",
       "3             Cities  KNN K=3      KNN  K=3  14.142227  14.996545  14.578379   \n",
       "4             Cities      M5        M5       21.869611  26.196099  23.858623   \n",
       "5             Cities      LR        LR       28.267730  32.863943  30.889955   \n",
       "6             Forbes  KNN K=3      KNN  K=3  33.856582  34.922806  34.294946   \n",
       "7             Forbes      M5        M5       46.529836  52.224101  49.157352   \n",
       "8             Forbes      LR        LR       34.769066  35.579306  35.048309   \n",
       "9   MetacriticMovies  KNN K=3      KNN  K=3  18.485689  18.942510  18.744432   \n",
       "10  MetacriticMovies      M5        M5       25.221999  26.750459  25.974892   \n",
       "11  MetacriticMovies      LR        LR       16.593603  16.821244  16.699149   \n",
       "12  MetacriticAlbums  KNN K=3      KNN  K=3  12.025971  12.172480  12.091682   \n",
       "13  MetacriticAlbums      M5        M5       16.471955  17.127402  16.832133   \n",
       "14  MetacriticAlbums      LR        LR       11.524901  11.711090  11.611136   \n",
       "\n",
       "    standard_dev  \n",
       "0       0.551729  \n",
       "1       2.125054  \n",
       "2       0.515045  \n",
       "3       0.290759  \n",
       "4       1.350624  \n",
       "5       1.310695  \n",
       "6       0.389875  \n",
       "7       1.816904  \n",
       "8       0.269028  \n",
       "9       0.148148  \n",
       "10      0.517983  \n",
       "11      0.056140  \n",
       "12      0.045341  \n",
       "13      0.185051  \n",
       "14      0.059974  "
      ]
     },
     "execution_count": 15,
     "metadata": {},
     "output_type": "execute_result"
    }
   ],
   "source": [
    "models_df"
   ]
  },
  {
   "cell_type": "code",
   "execution_count": 16,
   "metadata": {},
   "outputs": [
    {
     "data": {
      "text/plain": [
       "Text(0, 0.5, 'Mean value')"
      ]
     },
     "execution_count": 16,
     "metadata": {},
     "output_type": "execute_result"
    },
    {
     "data": {
      "image/png": "[encoded data removed]",
      "text/plain": [
       "<Figure size 432x288 with 1 Axes>"
      ]
     },
     "metadata": {
      "needs_background": "light"
     },
     "output_type": "display_data"
    }
   ],
   "source": [
    "comparison_plot = models_df.pivot(index='file', columns='approach', values='mean').plot(kind='bar')\n",
    "comparison_plot.legend(loc='center left', bbox_to_anchor=(1, 0.5))\n",
    "plt.xticks(rotation=65)\n",
    "plt.xlabel('File used as gold standard')\n",
    "plt.ylabel('Mean value')"
   ]
  },
  {
   "cell_type": "code",
   "execution_count": 17,
   "metadata": {},
   "outputs": [
    {
     "data": {
      "text/plain": [
       "Text(0, 0.5, 'The best value (min)')"
      ]
     },
     "execution_count": 17,
     "metadata": {},
     "output_type": "execute_result"
    },
    {
     "data": {
      "image/png": "[encoded data removed]",
      "text/plain": [
       "<Figure size 432x288 with 1 Axes>"
      ]
     },
     "metadata": {
      "needs_background": "light"
     },
     "output_type": "display_data"
    }
   ],
   "source": [
    "comparison_plot = models_df.pivot(index='file', columns='approach', values='min').plot(kind='bar')\n",
    "comparison_plot.legend(loc='center left', bbox_to_anchor=(1, 0.5))\n",
    "plt.xticks(rotation=65)\n",
    "plt.xlabel('File used as gold standard')\n",
    "plt.ylabel('The best value (min)')"
   ]
  }
 ],
 "metadata": {
  "kernelspec": {
   "display_name": "Python 3",
   "language": "python",
   "name": "python3"
  },
  "language_info": {
   "codemirror_mode": {
    "name": "ipython",
    "version": 3
   },
   "file_extension": ".py",
   "mimetype": "text/x-python",
   "name": "python",
   "nbconvert_exporter": "python",
   "pygments_lexer": "ipython3",
   "version": "3.7.4"
  }
 },
 "nbformat": 4,
 "nbformat_minor": 2
}
